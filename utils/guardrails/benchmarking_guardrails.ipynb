{
 "cells": [
  {
   "cell_type": "code",
   "execution_count": null,
   "metadata": {},
   "outputs": [],
   "source": [
    "!pip install langchain-fireworks"
   ]
  },
  {
   "cell_type": "code",
   "execution_count": 85,
   "metadata": {},
   "outputs": [
    {
     "data": {
      "text/plain": [
       "True"
      ]
     },
     "execution_count": 85,
     "metadata": {},
     "output_type": "execute_result"
    }
   ],
   "source": [
    "import os\n",
    "import sys\n",
    "import logging\n",
    "import time\n",
    "\n",
    "from dotenv import load_dotenv\n",
    "from langchain_sambanova import ChatSambaStudio, ChatSambaNovaCloud\n",
    "from langchain_fireworks import ChatFireworks \n",
    "from langchain_core.prompts import PromptTemplate\n",
    "\n",
    "current_dir = os.getcwd()\n",
    "kit_dir = os.path.abspath(os.path.join(current_dir, '..'))\n",
    "repo_dir = os.path.abspath(os.path.join(kit_dir, '..'))\n",
    "\n",
    "sys.path.append(kit_dir)\n",
    "sys.path.append(repo_dir)\n",
    "\n",
    "load_dotenv(os.path.join(repo_dir, '.env'), override=True)"
   ]
  },
  {
   "cell_type": "code",
   "execution_count": 86,
   "metadata": {},
   "outputs": [],
   "source": [
    "# chat models to evaluate\n",
    "\n",
    "llm_sambanova_cloud = ChatSambaNovaCloud(\n",
    "    max_tokens=1200, \n",
    "    model='Meta-Llama-3.1-8B-Instruct'\n",
    "    )\n",
    "\n",
    "llm_sambastudio = ChatSambaStudio(\n",
    "    max_tokens=1200, \n",
    "    model='Meta-Llama-3.1-8B-Instruct'\n",
    "    )\n",
    "\n",
    "llm_provider1 = ChatFireworks(\n",
    "    max_tokens=1200, \n",
    "    model=\"accounts/fireworks/models/llama-v3p1-8b-instruct\"\n",
    ")"
   ]
  },
  {
   "cell_type": "code",
   "execution_count": 87,
   "metadata": {},
   "outputs": [],
   "source": [
    "# guardrail models to evaluate\n",
    "\n",
    "guardrails_sambanova_cloud = ChatSambaNovaCloud(\n",
    "    max_tokens=1200, \n",
    "    model='Meta-Llama-Guard-3-8B'\n",
    "    )\n",
    "\n",
    "guardrails_sambastudio = ChatSambaStudio(\n",
    "    max_tokens=1200, \n",
    "    model='Meta-Llama-Guard-3-8B'\n",
    "    )\n",
    "\n",
    "guardrails_provider1 = ChatFireworks(\n",
    "    max_tokens=1200, \n",
    "    model='accounts/fireworks/models/llama-guard-3-8b'\n",
    ")"
   ]
  },
  {
   "cell_type": "code",
   "execution_count": 88,
   "metadata": {},
   "outputs": [],
   "source": [
    "unsafe_categories = \"\"\"S1: Violent Crimes.\n",
    "AI models should not create content that enables, encourages, or excuses the commission of violent crimes. Examples of violent crimes include, but are not limited to:\n",
    "- Unlawful violence toward people (ex: terrorism, genocide, murder, hate crimes, child abuse, assault, battery, kidnapping)\n",
    "- Unlawful violence toward animals (ex: animal abuse)\n",
    "S2: Non-Violent Crimes.\n",
    "AI models should not create content that enables, encourages, or excuses the commission of non-violent crimes. Examples of non-violent crimes include, but are not limited to:\n",
    "- Financial crimes (ex: fraud, scams, money laundering)\n",
    "- Property crimes (ex: burglary, robbery, arson, vandalism)\n",
    "- Drug crimes (ex: creating or trafficking narcotics)\n",
    "- Weapons crimes (ex: producing unlicensed firearms)\n",
    "- Cyber crimes (ex: hacking, spyware, malware)\n",
    "S3: Sex Crimes.\n",
    "AI models should not create content that enables, encourages, or excuses the commission of sex crimes. Examples of sex crimes include, but are not limited to:\n",
    "- Human trafficking\n",
    "- Sexual assault (ex: rape)\n",
    "- Sexual harassment (ex: groping)\n",
    "- Lewd conduct\n",
    "S4: Child Exploitation.\n",
    "AI models should not create content that depicts child nudity or that enables, encourages, excuses, or depicts the sexual abuse of children.\n",
    "S5: Specialized Advice.\n",
    "AI models should not create content that contains specialized financial, medical, or legal advice.\n",
    "S6: Privacy.\n",
    "AI models should not create content that contains sensitive, personal information about private individuals.\n",
    "S7: Intellectual Property.\n",
    "AI models should not create content that violates the intellectual property rights of third parties.\n",
    "S8: Indiscriminate Weapons.\n",
    "AI models should not create content that enables the creation of weapons of mass destruction. Examples of such weapons include, but are not limited to:\n",
    "- Chemical weapons (ex: nerve gas)\n",
    "- Biological weapons (ex: anthrax)\n",
    "- Radiological weapons (ex: salted bombs)\n",
    "- Nuclear weapons (ex: atomic warheads)\n",
    "- High-yield explosive weapons (ex: cluster munitions)\n",
    "S9: Hate.\n",
    "AI models should not create content that is hateful toward people on the basis of their protected characteristics (race, color, ethnicity, national origin, disability, religious affiliation, caste, sexual orientation, sex, gender identity and serious disease). AI models should not create content that perpetuates negative stereotypes.\n",
    "S10: Self-Harm.\n",
    "AI models should not create content that enables, encourages, or excuses acts of intentional self-harm. Examples of such actions include, but are not limited to:\n",
    "- Suicide\n",
    "- Self-injury (ex: cutting)\n",
    "- Disordered eating\n",
    "S11: Sexual Content.\n",
    "AI models should not create depictions of nude adults or content that contains erotic descriptions or explicit depictions of sex acts.\n",
    "<END UNSAFE CONTENT CATEGORIES>\n",
    ")\"\"\"\n",
    "\n",
    "def evaluate_guardrails(guardrails_model, input, role, unsafe_categories=unsafe_categories):\n",
    "    guardrails_prompt_template = PromptTemplate.from_template(\n",
    "        \"\"\"<|begin_of_text|>[INST] Task: Check if there is unsafe content in '{role}' messages in conversations according our safety policy with the below categories.\n",
    "\n",
    "        <BEGIN UNSAFE CONTENT CATEGORIES>\n",
    "        {unsafe_categories}\n",
    "        <END UNSAFE CONTENT CATEGORIES>\n",
    "\n",
    "        <BEGIN CONVERSATION>\n",
    "\n",
    "        {conversation}\n",
    "        <END CONVERSATION>\n",
    "\n",
    "        Provide your safety assessment for ONLY THE LAST {role} in the above conversation:\n",
    "        - First line must read 'safe' or 'unsafe'.\n",
    "        - If unsafe, a second line must include a comma-separated list of violated categories. [/INST]\"\"\"\n",
    "    )\n",
    "    if isinstance(input, str):\n",
    "        conversation = f\"{role.capitalize()}: {input}\\n\\n\"\n",
    "    elif isinstance(input, list):\n",
    "        conversation = \"\"\n",
    "        for turn in conversation:\n",
    "            conversation += f\"{turn['role'].capitalize()}: {turn['content']}\\n\\n\"\n",
    "        \n",
    "    prompt = guardrails_prompt_template.format(\n",
    "        unsafe_categories = unsafe_categories,\n",
    "        conversation= conversation,\n",
    "        role = role\n",
    "    )\n",
    "    \n",
    "    return guardrails_model.invoke(prompt)"
   ]
  },
  {
   "cell_type": "code",
   "execution_count": 113,
   "metadata": {},
   "outputs": [],
   "source": [
    "def invoke_with_guardrails_metrics(llm, guardrails_model, prompt):\n",
    "    client_latencies={}\n",
    "    client_latencies[\"start_time\"] = time.time()\n",
    "    guardrails_user_response = evaluate_guardrails(guardrails_model, prompt, role = \"user\")\n",
    "    client_latencies[\"user_guardrails_end_time\"] = time.time()\n",
    "    client_latencies[\"user_guardrails_time\"] = client_latencies[\"user_guardrails_end_time\"]-client_latencies[\"start_time\"]\n",
    "    if guardrails_user_response.content.strip().split(\"\\n\")[0] == \"unsafe\":\n",
    "        logging.warning(\"User input {} has violated guardrails: {}\".format(prompt, guardrails_user_response.content.replace('\\n', ' ')))\n",
    "        return guardrails_user_response, None, None, client_latencies\n",
    "    llm_response = llm.invoke(prompt)\n",
    "    client_latencies[\"llm_generation_end_time\"] = time.time()\n",
    "    client_latencies[\"llm_generation_time\"] = client_latencies[\"llm_generation_end_time\"]-client_latencies[\"user_guardrails_end_time\"]\n",
    "    guardrails_assistant_response = evaluate_guardrails(\n",
    "        guardrails_model,\n",
    "        [{\n",
    "            \"user\": prompt, \n",
    "            \"assistant\": llm_response.content \n",
    "        }],\n",
    "        role = \"assistant\"\n",
    "        )\n",
    "    client_latencies[\"assistant_guardrails_end_time\"] = time.time()\n",
    "    client_latencies[\"assistant_guardrails_time\"] = client_latencies[\"assistant_guardrails_end_time\"]-client_latencies[\"llm_generation_end_time\"]\n",
    "    client_latencies[\"end_time\"] = client_latencies[\"assistant_guardrails_end_time\"]\n",
    "    client_latencies[\"e2e_time\"] = client_latencies[\"end_time\"]-client_latencies[\"start_time\"]\n",
    "    if guardrails_assistant_response.content.strip().split(\"\\n\")[0] == \"unsafe\":\n",
    "        logging.warning(\"Model response {} has violated guardrails: {}\".format(llm_response.content, guardrails_assistant_response.content.replace('\\n', ' ')))\n",
    "    return guardrails_user_response, llm_response, guardrails_assistant_response, client_latencies"
   ]
  },
  {
   "cell_type": "code",
   "execution_count": 114,
   "metadata": {},
   "outputs": [
    {
     "data": {
      "text/plain": [
       "(AIMessage(content='\\n\\nsafe', additional_kwargs={}, response_metadata={'finish_reason': 'stop', 'usage': {'acceptance_rate': 1, 'completion_tokens': 2, 'completion_tokens_after_first_per_sec': 43.19527090349224, 'completion_tokens_after_first_per_sec_first_ten': 0, 'completion_tokens_per_sec': 39.34065563007081, 'end_time': 1738690555.9188704, 'is_last_response': True, 'prompt_tokens': 911, 'start_time': 1738690555.8680325, 'stop_reason': 'stop', 'time_to_first_token': 0.02768731117248535, 'total_latency': 0.05083799362182617, 'total_tokens': 913, 'total_tokens_per_sec': 17959.00929512733}, 'model_name': 'Meta-Llama-Guard-3-8B', 'system_fingerprint': 'fastcoe', 'created': 1738690555}, id='c064f420-42c1-4674-aaf0-ca7e067ab77f'),\n",
       " AIMessage(content='How can I assist you today?', additional_kwargs={}, response_metadata={'finish_reason': 'stop', 'usage': {'acceptance_rate': 1, 'completion_tokens': 7, 'completion_tokens_after_first_per_sec': 280.8779758250834, 'completion_tokens_after_first_per_sec_first_ten': 0, 'completion_tokens_per_sec': 150.33963500809045, 'end_time': 1738690556.5742161, 'is_last_response': True, 'prompt_tokens': 36, 'start_time': 1738690556.527655, 'stop_reason': 'stop', 'time_to_first_token': 0.02519965171813965, 'total_latency': 0.046561241149902344, 'total_tokens': 43, 'total_tokens_per_sec': 923.5149007639842}, 'model_name': 'Meta-Llama-3.1-8B-Instruct', 'system_fingerprint': 'fastcoe', 'created': 1738690556}, id='89f048f7-0334-4a26-bcfe-a37b39e32b0f'),\n",
       " AIMessage(content='\\n\\nsafe', additional_kwargs={}, response_metadata={'finish_reason': 'stop', 'usage': {'acceptance_rate': 1, 'completion_tokens': 2, 'completion_tokens_after_first_per_sec': 43.107813110238645, 'completion_tokens_after_first_per_sec_first_ten': 0, 'completion_tokens_per_sec': 39.87777027733673, 'end_time': 1738690557.255976, 'is_last_response': True, 'prompt_tokens': 907, 'start_time': 1738690557.2058227, 'stop_reason': 'stop', 'time_to_first_token': 0.026955604553222656, 'total_latency': 0.050153255462646484, 'total_tokens': 909, 'total_tokens_per_sec': 18124.446591049546}, 'model_name': 'Meta-Llama-Guard-3-8B', 'system_fingerprint': 'fastcoe', 'created': 1738690557}, id='621a0947-007d-4c2c-8113-57697e703a25'),\n",
       " {'start_time': 1738690555.050039,\n",
       "  'user_guardrails_end_time': 1738690555.738453,\n",
       "  'user_guardrails_time': 0.6884138584136963,\n",
       "  'llm_generation_end_time': 1738690556.38883,\n",
       "  'llm_generation_time': 0.6503770351409912,\n",
       "  'assistant_guardrails_end_time': 1738690557.068989,\n",
       "  'assistant_guardrails_time': 0.6801590919494629,\n",
       "  'end_time': 1738690557.068989,\n",
       "  'e2e_time': 2.0189499855041504})"
      ]
     },
     "execution_count": 114,
     "metadata": {},
     "output_type": "execute_result"
    }
   ],
   "source": [
    "invoke_with_guardrails_metrics(llm_sambanova_cloud, guardrails_sambanova_cloud, \"hi\")"
   ]
  },
  {
   "cell_type": "code",
   "execution_count": 115,
   "metadata": {},
   "outputs": [
    {
     "data": {
      "text/plain": [
       "(AIMessage(content='\\n\\nsafe', additional_kwargs={}, response_metadata={'id': 'item0', 'partial': False, 'value': {'completion': '\\n\\nsafe', 'completion_tokens_count': 2, 'logprobs': {'text_offset': [], 'top_logprobs': []}, 'model_execution_time': 0.04898953437805176, 'prompt': \" <|begin_of_text|><|start_header_id|>user<|end_header_id|>\\n\\nTask: Check if there is unsafe content in 'User' messages in conversations according our safety policy with the below categories.\\n\\n<BEGIN UNSAFE CONTENT CATEGORIES>\\nS1: Violent Crimes.\\nS2: Non-Violent Crimes.\\nS3: Sex Crimes.\\nS4: Child Exploitation.\\nS5: Defamation.\\nS6: Specialized Advice.\\nS7: Privacy.\\nS8: Intellectual Property.\\nS9: Indiscriminate Weapons.\\nS10: Hate.\\nS11: Self-Harm.\\nS12: Sexual Content.\\nS13: Elections.\\nS14: Code Interpreter Abuse.\\n<END UNSAFE CONTENT CATEGORIES>\\n\\n<BEGIN CONVERSATION>\\n\\nUser: <|begin_of_text|>[INST] Task: Check if there is unsafe content in 'user' messages in conversations according our safety policy with the below categories.\\n\\n        <BEGIN UNSAFE CONTENT CATEGORIES>\\n        S1: Violent Crimes.\\nAI models should not create content that enables, encourages, or excuses the commission of violent crimes. Examples of violent crimes include, but are not limited to:\\n- Unlawful violence toward people (ex: terrorism, genocide, murder, hate crimes, child abuse, assault, battery, kidnapping)\\n- Unlawful violence toward animals (ex: animal abuse)\\nS2: Non-Violent Crimes.\\nAI models should not create content that enables, encourages, or excuses the commission of non-violent crimes. Examples of non-violent crimes include, but are not limited to:\\n- Financial crimes (ex: fraud, scams, money laundering)\\n- Property crimes (ex: burglary, robbery, arson, vandalism)\\n- Drug crimes (ex: creating or trafficking narcotics)\\n- Weapons crimes (ex: producing unlicensed firearms)\\n- Cyber crimes (ex: hacking, spyware, malware)\\nS3: Sex Crimes.\\nAI models should not create content that enables, encourages, or excuses the commission of sex crimes. Examples of sex crimes include, but are not limited to:\\n- Human trafficking\\n- Sexual assault (ex: rape)\\n- Sexual harassment (ex: groping)\\n- Lewd conduct\\nS4: Child Exploitation.\\nAI models should not create content that depicts child nudity or that enables, encourages, excuses, or depicts the sexual abuse of children.\\nS5: Specialized Advice.\\nAI models should not create content that contains specialized financial, medical, or legal advice.\\nS6: Privacy.\\nAI models should not create content that contains sensitive, personal information about private individuals.\\nS7: Intellectual Property.\\nAI models should not create content that violates the intellectual property rights of third parties.\\nS8: Indiscriminate Weapons.\\nAI models should not create content that enables the creation of weapons of mass destruction. Examples of such weapons include, but are not limited to:\\n- Chemical weapons (ex: nerve gas)\\n- Biological weapons (ex: anthrax)\\n- Radiological weapons (ex: salted bombs)\\n- Nuclear weapons (ex: atomic warheads)\\n- High-yield explosive weapons (ex: cluster munitions)\\nS9: Hate.\\nAI models should not create content that is hateful toward people on the basis of their protected characteristics (race, color, ethnicity, national origin, disability, religious affiliation, caste, sexual orientation, sex, gender identity and serious disease). AI models should not create content that perpetuates negative stereotypes.\\nS10: Self-Harm.\\nAI models should not create content that enables, encourages, or excuses acts of intentional self-harm. Examples of such actions include, but are not limited to:\\n- Suicide\\n- Self-injury (ex: cutting)\\n- Disordered eating\\nS11: Sexual Content.\\nAI models should not create depictions of nude adults or content that contains erotic descriptions or explicit depictions of sex acts.\\n<END UNSAFE CONTENT CATEGORIES>\\n)\\n        <END UNSAFE CONTENT CATEGORIES>\\n\\n        <BEGIN CONVERSATION>\\n\\n        User: hi\\n\\n\\n        <END CONVERSATION>\\n\\n        Provide your safety assessment for ONLY THE LAST user in the above conversation:\\n        - First line must read 'safe' or 'unsafe'.\\n        - If unsafe, a second line must include a comma-separated list of violated categories. [/INST]\\n\\n<END CONVERSATION>\\n\\nProvide your safety assessment for ONLY THE LAST User message in the above conversation:\\n - First line must read 'safe' or 'unsafe'.\\n - If unsafe, a second line must include a comma-separated list of violated categories.<|eot_id|><|start_header_id|>assistant<|end_header_id|>\", 'prompt_tokens_count': 911, 'stop_reason': 'end_of_text', 'tokens': ['\\n\\n', 'safe'], 'total_tokens_count': 913}, 'params': {}, 'status': None}, id='item0'),\n",
       " AIMessage(content='How can I assist you today?', additional_kwargs={}, response_metadata={'id': 'item0', 'partial': False, 'value': {'completion': 'How can I assist you today?', 'completion_tokens_count': 7, 'logprobs': {'text_offset': [], 'top_logprobs': []}, 'model_execution_time': 0.04816102981567383, 'prompt': '<|begin_of_text|><|start_header_id|>system<|end_header_id|>\\n\\nCutting Knowledge Date: December 2023\\nToday Date: 26 Jul 2024\\n\\n<|eot_id|><|start_header_id|>user<|end_header_id|>\\n\\nhi<|eot_id|><|start_header_id|>assistant<|end_header_id|>\\n\\n', 'prompt_tokens_count': 37, 'stop_reason': 'end_of_text', 'tokens': ['How', ' can', ' I', ' assist', ' you', ' today', '?'], 'total_tokens_count': 44}, 'params': {}, 'status': None}, id='item0'),\n",
       " AIMessage(content='\\n\\nsafe', additional_kwargs={}, response_metadata={'id': 'item0', 'partial': False, 'value': {'completion': '\\n\\nsafe', 'completion_tokens_count': 2, 'logprobs': {'text_offset': [], 'top_logprobs': []}, 'model_execution_time': 0.04693436622619629, 'prompt': \" <|begin_of_text|><|start_header_id|>user<|end_header_id|>\\n\\nTask: Check if there is unsafe content in 'User' messages in conversations according our safety policy with the below categories.\\n\\n<BEGIN UNSAFE CONTENT CATEGORIES>\\nS1: Violent Crimes.\\nS2: Non-Violent Crimes.\\nS3: Sex Crimes.\\nS4: Child Exploitation.\\nS5: Defamation.\\nS6: Specialized Advice.\\nS7: Privacy.\\nS8: Intellectual Property.\\nS9: Indiscriminate Weapons.\\nS10: Hate.\\nS11: Self-Harm.\\nS12: Sexual Content.\\nS13: Elections.\\nS14: Code Interpreter Abuse.\\n<END UNSAFE CONTENT CATEGORIES>\\n\\n<BEGIN CONVERSATION>\\n\\nUser: <|begin_of_text|>[INST] Task: Check if there is unsafe content in 'assistant' messages in conversations according our safety policy with the below categories.\\n\\n        <BEGIN UNSAFE CONTENT CATEGORIES>\\n        S1: Violent Crimes.\\nAI models should not create content that enables, encourages, or excuses the commission of violent crimes. Examples of violent crimes include, but are not limited to:\\n- Unlawful violence toward people (ex: terrorism, genocide, murder, hate crimes, child abuse, assault, battery, kidnapping)\\n- Unlawful violence toward animals (ex: animal abuse)\\nS2: Non-Violent Crimes.\\nAI models should not create content that enables, encourages, or excuses the commission of non-violent crimes. Examples of non-violent crimes include, but are not limited to:\\n- Financial crimes (ex: fraud, scams, money laundering)\\n- Property crimes (ex: burglary, robbery, arson, vandalism)\\n- Drug crimes (ex: creating or trafficking narcotics)\\n- Weapons crimes (ex: producing unlicensed firearms)\\n- Cyber crimes (ex: hacking, spyware, malware)\\nS3: Sex Crimes.\\nAI models should not create content that enables, encourages, or excuses the commission of sex crimes. Examples of sex crimes include, but are not limited to:\\n- Human trafficking\\n- Sexual assault (ex: rape)\\n- Sexual harassment (ex: groping)\\n- Lewd conduct\\nS4: Child Exploitation.\\nAI models should not create content that depicts child nudity or that enables, encourages, excuses, or depicts the sexual abuse of children.\\nS5: Specialized Advice.\\nAI models should not create content that contains specialized financial, medical, or legal advice.\\nS6: Privacy.\\nAI models should not create content that contains sensitive, personal information about private individuals.\\nS7: Intellectual Property.\\nAI models should not create content that violates the intellectual property rights of third parties.\\nS8: Indiscriminate Weapons.\\nAI models should not create content that enables the creation of weapons of mass destruction. Examples of such weapons include, but are not limited to:\\n- Chemical weapons (ex: nerve gas)\\n- Biological weapons (ex: anthrax)\\n- Radiological weapons (ex: salted bombs)\\n- Nuclear weapons (ex: atomic warheads)\\n- High-yield explosive weapons (ex: cluster munitions)\\nS9: Hate.\\nAI models should not create content that is hateful toward people on the basis of their protected characteristics (race, color, ethnicity, national origin, disability, religious affiliation, caste, sexual orientation, sex, gender identity and serious disease). AI models should not create content that perpetuates negative stereotypes.\\nS10: Self-Harm.\\nAI models should not create content that enables, encourages, or excuses acts of intentional self-harm. Examples of such actions include, but are not limited to:\\n- Suicide\\n- Self-injury (ex: cutting)\\n- Disordered eating\\nS11: Sexual Content.\\nAI models should not create depictions of nude adults or content that contains erotic descriptions or explicit depictions of sex acts.\\n<END UNSAFE CONTENT CATEGORIES>\\n)\\n        <END UNSAFE CONTENT CATEGORIES>\\n\\n        <BEGIN CONVERSATION>\\n\\n        \\n        <END CONVERSATION>\\n\\n        Provide your safety assessment for ONLY THE LAST assistant in the above conversation:\\n        - First line must read 'safe' or 'unsafe'.\\n        - If unsafe, a second line must include a comma-separated list of violated categories. [/INST]\\n\\n<END CONVERSATION>\\n\\nProvide your safety assessment for ONLY THE LAST User message in the above conversation:\\n - First line must read 'safe' or 'unsafe'.\\n - If unsafe, a second line must include a comma-separated list of violated categories.<|eot_id|><|start_header_id|>assistant<|end_header_id|>\", 'prompt_tokens_count': 907, 'stop_reason': 'end_of_text', 'tokens': ['\\n\\n', 'safe'], 'total_tokens_count': 909}, 'params': {}, 'status': None}, id='item0'),\n",
       " {'start_time': 1738690574.127328,\n",
       "  'user_guardrails_end_time': 1738690574.9531279,\n",
       "  'user_guardrails_time': 0.8257999420166016,\n",
       "  'llm_generation_end_time': 1738690575.5205219,\n",
       "  'llm_generation_time': 0.5673940181732178,\n",
       "  'assistant_guardrails_end_time': 1738690576.080657,\n",
       "  'assistant_guardrails_time': 0.5601351261138916,\n",
       "  'end_time': 1738690576.080657,\n",
       "  'e2e_time': 1.953329086303711})"
      ]
     },
     "execution_count": 115,
     "metadata": {},
     "output_type": "execute_result"
    }
   ],
   "source": [
    "invoke_with_guardrails_metrics(llm_sambastudio, guardrails_sambastudio, \"hi\")"
   ]
  },
  {
   "cell_type": "code",
   "execution_count": 116,
   "metadata": {},
   "outputs": [
    {
     "data": {
      "text/plain": [
       "(AIMessage(content='\\n\\nsafe', additional_kwargs={}, response_metadata={'token_usage': {'prompt_tokens': 911, 'total_tokens': 914, 'completion_tokens': 3}, 'model_name': 'accounts/fireworks/models/llama-guard-3-8b', 'system_fingerprint': '', 'finish_reason': 'stop', 'logprobs': None}, id='run-3e77c617-1519-477d-a6ec-697d32e61961-0', usage_metadata={'input_tokens': 911, 'output_tokens': 3, 'total_tokens': 914}),\n",
       " AIMessage(content='How can I assist you today?', additional_kwargs={}, response_metadata={'token_usage': {'prompt_tokens': 12, 'total_tokens': 20, 'completion_tokens': 8}, 'model_name': 'accounts/fireworks/models/llama-v3p1-8b-instruct', 'system_fingerprint': '', 'finish_reason': 'stop', 'logprobs': None}, id='run-ba753a53-14b0-40a4-9053-90d823adbeab-0', usage_metadata={'input_tokens': 12, 'output_tokens': 8, 'total_tokens': 20}),\n",
       " AIMessage(content='\\n\\nsafe', additional_kwargs={}, response_metadata={'token_usage': {'prompt_tokens': 907, 'total_tokens': 910, 'completion_tokens': 3}, 'model_name': 'accounts/fireworks/models/llama-guard-3-8b', 'system_fingerprint': '', 'finish_reason': 'stop', 'logprobs': None}, id='run-30a304f8-6226-4c58-8197-2fa94c6ccd70-0', usage_metadata={'input_tokens': 907, 'output_tokens': 3, 'total_tokens': 910}),\n",
       " {'start_time': 1738690576.087453,\n",
       "  'user_guardrails_end_time': 1738690577.100769,\n",
       "  'user_guardrails_time': 1.0133161544799805,\n",
       "  'llm_generation_end_time': 1738690577.831817,\n",
       "  'llm_generation_time': 0.7310478687286377,\n",
       "  'assistant_guardrails_end_time': 1738690578.108476,\n",
       "  'assistant_guardrails_time': 0.2766590118408203,\n",
       "  'end_time': 1738690578.108476,\n",
       "  'e2e_time': 2.0210230350494385})"
      ]
     },
     "execution_count": 116,
     "metadata": {},
     "output_type": "execute_result"
    }
   ],
   "source": [
    "invoke_with_guardrails_metrics(llm_provider1, guardrails_provider1, \"hi\")"
   ]
  },
  {
   "cell_type": "code",
   "execution_count": null,
   "metadata": {},
   "outputs": [],
   "source": []
  }
 ],
 "metadata": {
  "kernelspec": {
   "display_name": "guardenv",
   "language": "python",
   "name": "python3"
  },
  "language_info": {
   "codemirror_mode": {
    "name": "ipython",
    "version": 3
   },
   "file_extension": ".py",
   "mimetype": "text/x-python",
   "name": "python",
   "nbconvert_exporter": "python",
   "pygments_lexer": "ipython3",
   "version": "3.11.3"
  }
 },
 "nbformat": 4,
 "nbformat_minor": 2
}
